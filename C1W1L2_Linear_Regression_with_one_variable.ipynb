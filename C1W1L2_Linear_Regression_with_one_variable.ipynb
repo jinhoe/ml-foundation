{
 "cells": [
  {
   "cell_type": "markdown",
   "id": "150b99d3",
   "metadata": {},
   "source": [
    "# Linear Regression with one variable\n",
    "\n",
    "Fit a linear regression model through 2 points to predict price for other houses"
   ]
  },
  {
   "cell_type": "code",
   "execution_count": null,
   "id": "bdd0d008",
   "metadata": {},
   "outputs": [],
   "source": [
    "import numpy as np                          # A library for scientific computing\n",
    "import matplotlib.pyplot as plt             # A library for plotting data\n",
    "plt.style.use('./deeplearning.mplstyle')"
   ]
  },
  {
   "cell_type": "code",
   "execution_count": null,
   "id": "1b0ea4ca",
   "metadata": {},
   "outputs": [],
   "source": [
    "# Training data is stored in one-dimensional NumPy arrays \n",
    "\n",
    "x_train = np.array([1.0, 2.0])              # Feature, size in 1000 sqft\n",
    "y_train = np.array([300.0, 500.0])          # Target, price in 1000s dollars\n",
    "print(f\"x_train = {x_train}\")\n",
    "print(f\"y_train = {y_train}\")"
   ]
  },
  {
   "cell_type": "code",
   "execution_count": null,
   "id": "2836ffa4",
   "metadata": {},
   "outputs": [],
   "source": [
    "# Get the number of training examples using .shape\n",
    "\n",
    "print(f\"x_train.shape: {x_train.shape}\")            # .shape returns a python tuple with an entry for each dimension\n",
    "m = x_train.shape[0]                                # x_train.shape[0] is the length of the array and number of examples\n",
    "print(f\"Number of training examples is: {m}\")       # m is the number of training examples"
   ]
  },
  {
   "cell_type": "code",
   "execution_count": null,
   "id": "f514e4b9",
   "metadata": {},
   "outputs": [],
   "source": [
    "# Get the number of training examples using Python `len()' function\n",
    "\n",
    "m = len(x_train)\n",
    "print(f\"Number of training examples is: {m}\")"
   ]
  },
  {
   "cell_type": "code",
   "execution_count": null,
   "id": "7baf9ed1",
   "metadata": {},
   "outputs": [],
   "source": [
    "i = 0                   # Get a specific training example\n",
    "\n",
    "x_i = x_train[i]\n",
    "y_i = y_train[i]\n",
    "print(f\"(x^({i}), y^({i})) = ({x_i}, {y_i})\")"
   ]
  },
  {
   "cell_type": "code",
   "execution_count": null,
   "id": "26a34ab5",
   "metadata": {},
   "outputs": [],
   "source": [
    "\n",
    "plt.scatter(x_train, y_train, marker='x', c='r')    # Plot the data points. `marker` and `c` show the points as red crosses\n",
    "plt.title(\"Housing Prices\")                         # Title\n",
    "plt.ylabel('Price (in 1000s of dollars)')           # y-axis label\n",
    "plt.xlabel('Size (1000 sqft)')                      # x-axis label\n",
    "plt.show()"
   ]
  },
  {
   "cell_type": "markdown",
   "id": "964c4578",
   "metadata": {},
   "source": [
    "## Model function"
   ]
  },
  {
   "cell_type": "code",
   "execution_count": null,
   "id": "ddca3863",
   "metadata": {},
   "outputs": [],
   "source": [
    "# Different values of w and b give a different straight lines on the plot\n",
    "\n",
    "w = 200\n",
    "b = 100\n",
    "print(f\"w: {w}\")\n",
    "print(f\"b: {b}\")"
   ]
  },
  {
   "cell_type": "code",
   "execution_count": null,
   "id": "ed5a52c2",
   "metadata": {},
   "outputs": [],
   "source": [
    "# For large number of data points, use for loop to compute the output value\n",
    "# Computes the prediction of a linear model\n",
    "\n",
    "def compute_model_output(x, w, b):\n",
    "    m = x.shape[0]                   # Number of training examples\n",
    "    f_wb = np.zeros(m)               # np.zero(n) will return a one-dimensional numpy array with n entries\n",
    "    for i in range(m):\n",
    "        f_wb[i] = w * x[i] + b\n",
    "        \n",
    "    return f_wb"
   ]
  },
  {
   "cell_type": "code",
   "execution_count": null,
   "id": "c8d35832",
   "metadata": {},
   "outputs": [],
   "source": [
    "# Call the compute_model_output function and plot the output\n",
    "\n",
    "tmp_f_wb = compute_model_output(x_train, w, b)\n",
    "\n",
    "plt.plot(x_train, tmp_f_wb, c='b', label='Our Prediction')               # Plot our model prediction\n",
    "plt.scatter(x_train, y_train, marker='x', c='r', label='Actual Values')  # Plot the data points\n",
    "\n",
    "plt.title('Housing Prices')\n",
    "plt.ylabel('Price (in 1000s of dollars)')\n",
    "plt.xlabel('Size (1000 sqft)')\n",
    "plt.legend()\n",
    "plt.show()"
   ]
  },
  {
   "cell_type": "markdown",
   "id": "8d55d627",
   "metadata": {},
   "source": [
    "## Prediction\n",
    "\n",
    "Predict the price of a house with 1200 sqft. Since the units of x are in 1000's of sqft, x is 1.2."
   ]
  },
  {
   "cell_type": "code",
   "execution_count": null,
   "id": "04dc5ac1",
   "metadata": {},
   "outputs": [],
   "source": [
    "x_i = 1.2\n",
    "cost_1200sqft = w * x_i + b\n",
    "\n",
    "print(f\"${cost_1200sqft:.0f} thousand dollars\")"
   ]
  }
 ],
 "metadata": {
  "kernelspec": {
   "display_name": "Python 3.10.8 ('ml-foundation-p6JCP6RA')",
   "language": "python",
   "name": "python3"
  },
  "language_info": {
   "codemirror_mode": {
    "name": "ipython",
    "version": 3
   },
   "file_extension": ".py",
   "mimetype": "text/x-python",
   "name": "python",
   "nbconvert_exporter": "python",
   "pygments_lexer": "ipython3",
   "version": "3.10.8"
  },
  "vscode": {
   "interpreter": {
    "hash": "468a3f346086b68a92d3ab3fbbc87a89745f315f404590a22b3596ab87253453"
   }
  }
 },
 "nbformat": 4,
 "nbformat_minor": 5
}
